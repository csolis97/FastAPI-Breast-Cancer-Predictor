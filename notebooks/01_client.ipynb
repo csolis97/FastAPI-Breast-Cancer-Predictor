{
 "cells": [
  {
   "cell_type": "markdown",
   "id": "24cdba65",
   "metadata": {},
   "source": [
    "# fastapi client simulation"
   ]
  },
  {
   "cell_type": "code",
   "execution_count": 1,
   "id": "8427ea61",
   "metadata": {},
   "outputs": [
    {
     "name": "stdout",
     "output_type": "stream",
     "text": [
      "Status code: 200\n",
      "Response JSON: {'prediction': 1, 'probability': 0.5332673580926112}\n"
     ]
    }
   ],
   "source": [
    "import requests\n",
    "import json\n",
    "\n",
    "# API local\n",
    "url = \"http://127.0.0.1:8000/predict\"\n",
    "\n",
    "# JSON válido de ejemplo\n",
    "data_valid = {\n",
    "    \"mean_radius\": 14.127292,\n",
    "    \"mean_texture\": 19.289649,\n",
    "    \"mean_perimeter\": 91.969033,\n",
    "    \"mean_area\": 654.889104,\n",
    "    \"mean_smoothness\": 0.096360,\n",
    "    \"mean_compactness\": 0.104341,\n",
    "    \"mean_concavity\": 0.088799,\n",
    "    \"mean_concave_points\": 0.048919,\n",
    "    \"mean_symmetry\": 0.181162,\n",
    "    \"mean_fractal_dimension\": 0.062798,\n",
    "    \"radius_error\": 0.405172,\n",
    "    \"texture_error\": 1.216853,\n",
    "    \"perimeter_error\": 2.866059,\n",
    "    \"area_error\": 40.337079,\n",
    "    \"smoothness_error\": 0.007041,\n",
    "    \"compactness_error\": 0.025478,\n",
    "    \"concavity_error\": 0.031894,\n",
    "    \"concave_points_error\": 0.011796,\n",
    "    \"symmetry_error\": 0.020542,\n",
    "    \"fractal_dimension_error\": 0.003795,\n",
    "    \"worst_radius\": 16.269190,\n",
    "    \"worst_texture\": 25.677223,\n",
    "    \"worst_perimeter\": 107.261213,\n",
    "    \"worst_area\": 880.583128,\n",
    "    \"worst_smoothness\": 0.132369,\n",
    "    \"worst_compactness\": 0.254265,\n",
    "    \"worst_concavity\": 0.32,\n",
    "    \"worst_concave_points\": 0.114606,\n",
    "    \"worst_symmetry\": 0.290076,\n",
    "    \"worst_fractal_dimension\": 0.083946\n",
    "}\n",
    "\n",
    "# Enviar petición POST\n",
    "response = requests.post(url, json=data_valid)\n",
    "print(\"Status code:\", response.status_code)\n",
    "try:\n",
    "    print(\"Response JSON:\", response.json())\n",
    "except Exception as e:\n",
    "    print(\"Error leyendo JSON:\", e)\n"
   ]
  }
 ],
 "metadata": {
  "kernelspec": {
   "display_name": "venv",
   "language": "python",
   "name": "python3"
  },
  "language_info": {
   "codemirror_mode": {
    "name": "ipython",
    "version": 3
   },
   "file_extension": ".py",
   "mimetype": "text/x-python",
   "name": "python",
   "nbconvert_exporter": "python",
   "pygments_lexer": "ipython3",
   "version": "3.11.9"
  }
 },
 "nbformat": 4,
 "nbformat_minor": 5
}
