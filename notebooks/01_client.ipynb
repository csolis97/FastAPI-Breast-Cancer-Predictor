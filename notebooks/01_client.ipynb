{
 "cells": [
  {
   "cell_type": "markdown",
   "id": "24cdba65",
   "metadata": {},
   "source": [
    "# Fastapi Client Simulation"
   ]
  },
  {
   "cell_type": "markdown",
   "id": "b386fc02",
   "metadata": {},
   "source": [
    "Este notebook permite utilizar la API de predicción de cáncer de mama, tanto en **local** como en la nube mediante **Render**, para realizar esto se define una función **prediction_request** la cual realiza una petición POST a la API de predicción y maneja la respuesta.\n",
    "\n",
    "---\n",
    "⚠️NOTA:  \n",
    "Antes de ejecutar las pruebas con la API en **local**, asegúrate de que el servidor esté corriendo. La guía rápida de configuración local se encuentra en el archivo **README** del proyecto.\n",
    "\n",
    "---"
   ]
  },
  {
   "cell_type": "code",
   "execution_count": 1,
   "id": "ec79e8f5",
   "metadata": {},
   "outputs": [],
   "source": [
    "# Librerías necesarias\n",
    "import requests\n",
    "import json"
   ]
  },
  {
   "cell_type": "code",
   "execution_count": 2,
   "id": "8427ea61",
   "metadata": {},
   "outputs": [],
   "source": [
    "# Opciones de conexión\n",
    "local_api_url = \"http://127.0.0.1:8000/predict\" # Requiere que el servidor esté corriendo localmente\n",
    "render_api_url = \"https://fastapi-breast-cancer-predictor-uyv6.onrender.com/predict\""
   ]
  },
  {
   "cell_type": "markdown",
   "id": "588de796",
   "metadata": {},
   "source": [
    "## Casos de prueba\n",
    "\n",
    "Se incluyen tres tipos de casos:\n",
    "\n",
    "1) Caso válido – JSON con datos correctos.\n",
    "\n",
    "2) Caso válido alternativo – Valores distintos para probar variedad.\n",
    "\n",
    "3) Caso inválido – Datos que deberían producir error (ej. mean_area negativo).\n",
    "\n",
    "**Puedes añadir más casos de prueba agregando y/o modificando los JSON de ejemplo.**"
   ]
  },
  {
   "cell_type": "code",
   "execution_count": 3,
   "id": "65d32311",
   "metadata": {},
   "outputs": [],
   "source": [
    "# JSON de entradas para pruebas\n",
    "# Primer caso válido\n",
    "data_valid = {\n",
    "    \"mean_radius\": 14.127292,\n",
    "    \"mean_texture\": 19.289649,\n",
    "    \"mean_perimeter\": 91.969033,\n",
    "    \"mean_area\": 654.889104,\n",
    "    \"mean_smoothness\": 0.096360,\n",
    "    \"mean_compactness\": 0.104341,\n",
    "    \"mean_concavity\": 0.088799,\n",
    "    \"mean_concave_points\": 0.048919,\n",
    "    \"mean_symmetry\": 0.181162,\n",
    "    \"mean_fractal_dimension\": 0.062798,\n",
    "    \"radius_error\": 0.405172,\n",
    "    \"texture_error\": 1.216853,\n",
    "    \"perimeter_error\": 2.866059,\n",
    "    \"area_error\": 40.337079,\n",
    "    \"smoothness_error\": 0.007041,\n",
    "    \"compactness_error\": 0.025478,\n",
    "    \"concavity_error\": 0.031894,\n",
    "    \"concave_points_error\": 0.011796,\n",
    "    \"symmetry_error\": 0.020542,\n",
    "    \"fractal_dimension_error\": 0.003795,\n",
    "    \"worst_radius\": 16.269190,\n",
    "    \"worst_texture\": 25.677223,\n",
    "    \"worst_perimeter\": 107.261213,\n",
    "    \"worst_area\": 880.583128,\n",
    "    \"worst_smoothness\": 0.132369,\n",
    "    \"worst_compactness\": 0.254265,\n",
    "    \"worst_concavity\": 0.32,\n",
    "    \"worst_concave_points\": 0.114606,\n",
    "    \"worst_symmetry\": 0.2,\n",
    "    \"worst_fractal_dimension\": 0.231\n",
    "}\n",
    "\n",
    "\n",
    "# Segundo caso válido (valores diferentes)\n",
    "data_valid_alt = data_valid.copy()\n",
    "data_valid_alt[\"mean_radius\"] = 10.5\n",
    "data_valid_alt[\"worst_area\"] = 500\n",
    "\n",
    "# Tercer caso inválido (mean_area negativo)\n",
    "data_invalid = data_valid.copy()\n",
    "data_invalid[\"mean_area\"] = -50"
   ]
  },
  {
   "cell_type": "markdown",
   "id": "ad4b24a1",
   "metadata": {},
   "source": [
    "## Uso de la API\n",
    "Se declara una función test_request que envía un POST a la API."
   ]
  },
  {
   "cell_type": "code",
   "execution_count": null,
   "id": "aa86f2a3",
   "metadata": {},
   "outputs": [],
   "source": [
    "def prediction_request(url, name, payload):\n",
    "    \"\"\"\"\n",
    "    Realiza una petición POST a la API de predicción y maneja la respuesta.\n",
    "    Args:\n",
    "        url (str): URL de la API.\n",
    "        name (str): Nombre del caso de prueba.\n",
    "        payload (dict): Datos a enviar en la petición.\n",
    "    \"\"\"\n",
    "    print(f\"\\n API Test: {name}\")\n",
    "    try:\n",
    "        response = requests.post(url, json=payload)\n",
    "        print(\"Status:\", response.status_code)\n",
    "        response.raise_for_status()  # Lanza excepción si status >= 400\n",
    "        print(\"Response JSON:\", json.dumps(response.json(), indent=2))\n",
    "    except requests.exceptions.HTTPError:\n",
    "        try:\n",
    "            # Intentamos extraer el mensaje de error desde el JSON\n",
    "            msg = response.json().get(\"detail\") or response.json().get(\"message\")\n",
    "            print(f\"Error {response.status_code}: {msg}\")\n",
    "        except Exception:\n",
    "            print(f\"Error {response.status_code}: No se pudo leer mensaje de la API\")\n",
    "    except requests.exceptions.RequestException as e:\n",
    "        print(\"Error de conexión o request:\", e)\n"
   ]
  },
  {
   "cell_type": "markdown",
   "id": "16ddc9a1",
   "metadata": {},
   "source": [
    "## Ejecución de request"
   ]
  },
  {
   "cell_type": "code",
   "execution_count": null,
   "id": "c4ba72f0",
   "metadata": {},
   "outputs": [
    {
     "name": "stdout",
     "output_type": "stream",
     "text": [
      "=== API LOCAL ===\n",
      "\n",
      " API Test: Local - Caso válido\n",
      "Status: 200\n",
      "Response JSON: {\n",
      "  \"prediction\": 1,\n",
      "  \"probability\": 0.7245078227783659\n",
      "}\n",
      "\n",
      " API Test: Local - Caso válido alternativo\n",
      "Status: 200\n",
      "Response JSON: {\n",
      "  \"prediction\": 1,\n",
      "  \"probability\": 0.8652547561886609\n",
      "}\n",
      "\n",
      " API Test: Local - Caso inválido\n",
      "Status: 422\n",
      "Error 422: ['Value error, Los valores no pueden ser negativos']\n"
     ]
    }
   ],
   "source": [
    "# API LOCAL\n",
    "print(\"=== API LOCAL ===\")\n",
    "prediction_request(local_api_url, \"Local - Caso válido\", data_valid)\n",
    "prediction_request(local_api_url,\"Local - Caso válido alternativo\", data_valid_alt)\n",
    "prediction_request(local_api_url, \"Local - Caso inválido\",data_invalid)"
   ]
  },
  {
   "cell_type": "code",
   "execution_count": null,
   "id": "a9c8f353",
   "metadata": {},
   "outputs": [
    {
     "name": "stdout",
     "output_type": "stream",
     "text": [
      "=== API RENDER ===\n",
      "\n",
      " API Test: Render - Caso válido\n",
      "Status: 200\n",
      "Response JSON: {\n",
      "  \"prediction\": 1,\n",
      "  \"probability\": 0.7245078227783659\n",
      "}\n",
      "\n",
      " API Test: Render - Caso válido alternativo\n",
      "Status: 200\n",
      "Response JSON: {\n",
      "  \"prediction\": 1,\n",
      "  \"probability\": 0.8652547561886609\n",
      "}\n",
      "\n",
      " API Test: Render - Caso inválido\n",
      "Status: 422\n",
      "Error 422: ['Value error, Los valores no pueden ser negativos']\n"
     ]
    }
   ],
   "source": [
    "# API Render\n",
    "print(\"=== API RENDER ===\")\n",
    "prediction_request(render_api_url, \"Render - Caso válido\", data_valid)\n",
    "prediction_request(render_api_url,\"Render - Caso válido alternativo\", data_valid_alt)\n",
    "prediction_request(render_api_url, \"Render - Caso inválido\",data_invalid)\n"
   ]
  },
  {
   "cell_type": "markdown",
   "id": "d126b94e",
   "metadata": {},
   "source": [
    "## Conclusión\n",
    "\n",
    "La API responde de forma consistente y robusta frente a:\n",
    "- Datos correctos → entrega predicción.  \n",
    "- Datos inválidos → entrega mensajes de error claros.  \n",
    "\n",
    "El flujo de request–response fue validado tanto en **entorno local** como en **Render**."
   ]
  }
 ],
 "metadata": {
  "kernelspec": {
   "display_name": "venv",
   "language": "python",
   "name": "python3"
  },
  "language_info": {
   "codemirror_mode": {
    "name": "ipython",
    "version": 3
   },
   "file_extension": ".py",
   "mimetype": "text/x-python",
   "name": "python",
   "nbconvert_exporter": "python",
   "pygments_lexer": "ipython3",
   "version": "3.11.9"
  }
 },
 "nbformat": 4,
 "nbformat_minor": 5
}
